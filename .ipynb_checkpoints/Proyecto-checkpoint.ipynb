{
 "cells": [
  {
   "cell_type": "markdown",
   "id": "233f289c-a718-4110-833c-6806a5c79b63",
   "metadata": {},
   "source": [
    "# Linear Regresion Uni-variable Predictive Model"
   ]
  },
  {
   "cell_type": "markdown",
   "id": "5cc11fc8-c2fb-4ebc-9f1b-6d91b8a08a8e",
   "metadata": {},
   "source": [
    "### About\n",
    "\n",
    "This is a project for the PostGrad class of Data Science in python.\n",
    "\n",
    "We will use a dataset to predict with uni variables, "
   ]
  },
  {
   "cell_type": "code",
   "execution_count": null,
   "id": "2f2037ec-e2f7-46e6-a949-a409c0ace4fb",
   "metadata": {},
   "outputs": [],
   "source": []
  }
 ],
 "metadata": {
  "kernelspec": {
   "display_name": "Python 3 (ipykernel)",
   "language": "python",
   "name": "python3"
  },
  "language_info": {
   "codemirror_mode": {
    "name": "ipython",
    "version": 3
   },
   "file_extension": ".py",
   "mimetype": "text/x-python",
   "name": "python",
   "nbconvert_exporter": "python",
   "pygments_lexer": "ipython3",
   "version": "3.11.5"
  }
 },
 "nbformat": 4,
 "nbformat_minor": 5
}
