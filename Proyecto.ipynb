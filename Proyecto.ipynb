{
 "cells": [
  {
   "cell_type": "markdown",
   "id": "233f289c-a718-4110-833c-6806a5c79b63",
   "metadata": {},
   "source": [
    "# Linear Regresion Uni-variable Predictive Model"
   ]
  },
  {
   "cell_type": "markdown",
   "id": "5cc11fc8-c2fb-4ebc-9f1b-6d91b8a08a8e",
   "metadata": {},
   "source": [
    "### About\n",
    "\n",
    "This is a project for the PostGrad class of Data Science in python.\n",
    "\n",
    "We will use a dataset to predict with uni variables, "
   ]
  },
  {
   "cell_type": "markdown",
   "id": "0174dbea-97b2-436e-9569-cd78445e210c",
   "metadata": {
    "tags": []
   },
   "source": [
    "### 1. Crear un entorno de anaconda con los paquetes que considere necesarios / Create an anaconda environment with the needed packages."
   ]
  },
  {
   "cell_type": "code",
   "execution_count": 14,
   "id": "2f2037ec-e2f7-46e6-a949-a409c0ace4fb",
   "metadata": {},
   "outputs": [],
   "source": [
    "import numpy as np\n",
    "import matplotlib.pyplot as plt\n",
    "import pandas as pd\n",
    "import seaborn as sns\n",
    "import sklearn"
   ]
  },
  {
   "cell_type": "code",
   "execution_count": 2,
   "id": "55cd7538-bb4c-4942-aea0-7a1874db9b45",
   "metadata": {
    "tags": []
   },
   "outputs": [
    {
     "name": "stdout",
     "output_type": "stream",
     "text": [
      "Requirement already satisfied: scikit-learn in d:\\anaconda\\lib\\site-packages (1.3.0)\n",
      "Requirement already satisfied: numpy>=1.17.3 in d:\\anaconda\\lib\\site-packages (from scikit-learn) (1.24.3)\n",
      "Requirement already satisfied: scipy>=1.5.0 in d:\\anaconda\\lib\\site-packages (from scikit-learn) (1.11.1)\n",
      "Requirement already satisfied: joblib>=1.1.1 in d:\\anaconda\\lib\\site-packages (from scikit-learn) (1.2.0)\n",
      "Requirement already satisfied: threadpoolctl>=2.0.0 in d:\\anaconda\\lib\\site-packages (from scikit-learn) (2.2.0)\n",
      "Note: you may need to restart the kernel to use updated packages.\n"
     ]
    }
   ],
   "source": [
    "pip install scikit-learn"
   ]
  },
  {
   "cell_type": "code",
   "execution_count": 17,
   "id": "e8fc9f1d-ba61-4d99-92a3-8515174359ae",
   "metadata": {},
   "outputs": [
    {
     "data": {
      "text/plain": [
       "array([[2.08500e+05, 7.00000e+00, 8.56000e+02, 8.00000e+00, 2.00300e+03,\n",
       "        6.50000e+01],\n",
       "       [1.81500e+05, 6.00000e+00, 1.26200e+03, 6.00000e+00, 1.97600e+03,\n",
       "        8.00000e+01],\n",
       "       [2.23500e+05, 7.00000e+00, 9.20000e+02, 6.00000e+00, 2.00100e+03,\n",
       "        6.80000e+01],\n",
       "       ...,\n",
       "       [2.66500e+05, 7.00000e+00, 1.18800e+03, 9.00000e+00, 1.94100e+03,\n",
       "        6.60000e+01],\n",
       "       [1.42125e+05, 5.00000e+00, 1.07800e+03, 5.00000e+00, 1.95000e+03,\n",
       "        6.80000e+01],\n",
       "       [1.47500e+05, 5.00000e+00, 1.25600e+03, 6.00000e+00, 1.96500e+03,\n",
       "        7.50000e+01]])"
      ]
     },
     "execution_count": 17,
     "metadata": {},
     "output_type": "execute_result"
    }
   ],
   "source": [
    "# se carga el dataset\n",
    "data = np.load('proyecto_data/proyecto_training_data.npy')\n",
    "data"
   ]
  },
  {
   "cell_type": "code",
   "execution_count": 16,
   "id": "b7fac710-fc7a-428e-a8eb-550b0d2ac22b",
   "metadata": {
    "tags": []
   },
   "outputs": [
    {
     "data": {
      "text/plain": [
       "(1460, 6)"
      ]
     },
     "execution_count": 16,
     "metadata": {},
     "output_type": "execute_result"
    }
   ],
   "source": [
    "data.shape"
   ]
  },
  {
   "cell_type": "markdown",
   "id": "2c4d9ec9-7ade-44ce-8e37-f2e150b16e9d",
   "metadata": {},
   "source": [
    "tiene 1460 filas y 6 columnas, no tienen título pero estas son: "
   ]
  },
  {
   "cell_type": "markdown",
   "id": "c71f99f5-9fd4-4cea-aabf-cc816bebaac2",
   "metadata": {
    "tags": []
   },
   "source": [
    "### 2. Usando sclicing con NumPy separar los datos en 2 datasets: entrenamiento(80 %) y validación y pruebas(20 %). / Using slicing with NumPy separate the data into 2 datasets training 80% and testing 20%  "
   ]
  },
  {
   "cell_type": "code",
   "execution_count": 29,
   "id": "20b0d9a7-ce77-4fe7-9b63-db222f314862",
   "metadata": {
    "tags": []
   },
   "outputs": [],
   "source": [
    "# nombre de las colúmnas\n",
    "keys = ['SalePrice', 'OverallQual', '1stFlrSF', 'TotRmsAbvGrd', 'YearBuilt', 'LotFrontage']"
   ]
  },
  {
   "cell_type": "code",
   "execution_count": 30,
   "id": "93dbb1c1-7566-41cd-8dd0-1184f61fc3a5",
   "metadata": {
    "tags": []
   },
   "outputs": [
    {
     "data": {
      "text/plain": [
       "array([[2.08500e+05, 7.00000e+00, 8.56000e+02, 8.00000e+00, 2.00300e+03,\n",
       "        6.50000e+01],\n",
       "       [1.81500e+05, 6.00000e+00, 1.26200e+03, 6.00000e+00, 1.97600e+03,\n",
       "        8.00000e+01],\n",
       "       [2.23500e+05, 7.00000e+00, 9.20000e+02, 6.00000e+00, 2.00100e+03,\n",
       "        6.80000e+01],\n",
       "       ...,\n",
       "       [2.66500e+05, 7.00000e+00, 1.18800e+03, 9.00000e+00, 1.94100e+03,\n",
       "        6.60000e+01],\n",
       "       [1.42125e+05, 5.00000e+00, 1.07800e+03, 5.00000e+00, 1.95000e+03,\n",
       "        6.80000e+01],\n",
       "       [1.47500e+05, 5.00000e+00, 1.25600e+03, 6.00000e+00, 1.96500e+03,\n",
       "        7.50000e+01]])"
      ]
     },
     "execution_count": 30,
     "metadata": {},
     "output_type": "execute_result"
    }
   ],
   "source": [
    "# se le dan los indices al arreglo de data para que hagan match con los indices de keys.\n",
    "data = data[:, [keys.index(key) for key in keys]]\n",
    "data"
   ]
  },
  {
   "cell_type": "code",
   "execution_count": 31,
   "id": "df0219a3-ad56-4fa4-8407-7f535e7a32f1",
   "metadata": {
    "tags": []
   },
   "outputs": [
    {
     "data": {
      "text/html": [
       "<div>\n",
       "<style scoped>\n",
       "    .dataframe tbody tr th:only-of-type {\n",
       "        vertical-align: middle;\n",
       "    }\n",
       "\n",
       "    .dataframe tbody tr th {\n",
       "        vertical-align: top;\n",
       "    }\n",
       "\n",
       "    .dataframe thead th {\n",
       "        text-align: right;\n",
       "    }\n",
       "</style>\n",
       "<table border=\"1\" class=\"dataframe\">\n",
       "  <thead>\n",
       "    <tr style=\"text-align: right;\">\n",
       "      <th></th>\n",
       "      <th>SalePrice</th>\n",
       "      <th>OverallQual</th>\n",
       "      <th>1stFlrSF</th>\n",
       "      <th>TotRmsAbvGrd</th>\n",
       "      <th>YearBuilt</th>\n",
       "      <th>LotFrontage</th>\n",
       "    </tr>\n",
       "  </thead>\n",
       "  <tbody>\n",
       "    <tr>\n",
       "      <th>0</th>\n",
       "      <td>208500.0</td>\n",
       "      <td>7.0</td>\n",
       "      <td>856.0</td>\n",
       "      <td>8.0</td>\n",
       "      <td>2003.0</td>\n",
       "      <td>65.0</td>\n",
       "    </tr>\n",
       "    <tr>\n",
       "      <th>1</th>\n",
       "      <td>181500.0</td>\n",
       "      <td>6.0</td>\n",
       "      <td>1262.0</td>\n",
       "      <td>6.0</td>\n",
       "      <td>1976.0</td>\n",
       "      <td>80.0</td>\n",
       "    </tr>\n",
       "    <tr>\n",
       "      <th>2</th>\n",
       "      <td>223500.0</td>\n",
       "      <td>7.0</td>\n",
       "      <td>920.0</td>\n",
       "      <td>6.0</td>\n",
       "      <td>2001.0</td>\n",
       "      <td>68.0</td>\n",
       "    </tr>\n",
       "    <tr>\n",
       "      <th>3</th>\n",
       "      <td>140000.0</td>\n",
       "      <td>7.0</td>\n",
       "      <td>961.0</td>\n",
       "      <td>7.0</td>\n",
       "      <td>1915.0</td>\n",
       "      <td>60.0</td>\n",
       "    </tr>\n",
       "    <tr>\n",
       "      <th>4</th>\n",
       "      <td>250000.0</td>\n",
       "      <td>8.0</td>\n",
       "      <td>1145.0</td>\n",
       "      <td>9.0</td>\n",
       "      <td>2000.0</td>\n",
       "      <td>84.0</td>\n",
       "    </tr>\n",
       "    <tr>\n",
       "      <th>...</th>\n",
       "      <td>...</td>\n",
       "      <td>...</td>\n",
       "      <td>...</td>\n",
       "      <td>...</td>\n",
       "      <td>...</td>\n",
       "      <td>...</td>\n",
       "    </tr>\n",
       "    <tr>\n",
       "      <th>1455</th>\n",
       "      <td>175000.0</td>\n",
       "      <td>6.0</td>\n",
       "      <td>953.0</td>\n",
       "      <td>7.0</td>\n",
       "      <td>1999.0</td>\n",
       "      <td>62.0</td>\n",
       "    </tr>\n",
       "    <tr>\n",
       "      <th>1456</th>\n",
       "      <td>210000.0</td>\n",
       "      <td>6.0</td>\n",
       "      <td>2073.0</td>\n",
       "      <td>7.0</td>\n",
       "      <td>1978.0</td>\n",
       "      <td>85.0</td>\n",
       "    </tr>\n",
       "    <tr>\n",
       "      <th>1457</th>\n",
       "      <td>266500.0</td>\n",
       "      <td>7.0</td>\n",
       "      <td>1188.0</td>\n",
       "      <td>9.0</td>\n",
       "      <td>1941.0</td>\n",
       "      <td>66.0</td>\n",
       "    </tr>\n",
       "    <tr>\n",
       "      <th>1458</th>\n",
       "      <td>142125.0</td>\n",
       "      <td>5.0</td>\n",
       "      <td>1078.0</td>\n",
       "      <td>5.0</td>\n",
       "      <td>1950.0</td>\n",
       "      <td>68.0</td>\n",
       "    </tr>\n",
       "    <tr>\n",
       "      <th>1459</th>\n",
       "      <td>147500.0</td>\n",
       "      <td>5.0</td>\n",
       "      <td>1256.0</td>\n",
       "      <td>6.0</td>\n",
       "      <td>1965.0</td>\n",
       "      <td>75.0</td>\n",
       "    </tr>\n",
       "  </tbody>\n",
       "</table>\n",
       "<p>1460 rows × 6 columns</p>\n",
       "</div>"
      ],
      "text/plain": [
       "      SalePrice  OverallQual  1stFlrSF  TotRmsAbvGrd  YearBuilt  LotFrontage\n",
       "0      208500.0          7.0     856.0           8.0     2003.0         65.0\n",
       "1      181500.0          6.0    1262.0           6.0     1976.0         80.0\n",
       "2      223500.0          7.0     920.0           6.0     2001.0         68.0\n",
       "3      140000.0          7.0     961.0           7.0     1915.0         60.0\n",
       "4      250000.0          8.0    1145.0           9.0     2000.0         84.0\n",
       "...         ...          ...       ...           ...        ...          ...\n",
       "1455   175000.0          6.0     953.0           7.0     1999.0         62.0\n",
       "1456   210000.0          6.0    2073.0           7.0     1978.0         85.0\n",
       "1457   266500.0          7.0    1188.0           9.0     1941.0         66.0\n",
       "1458   142125.0          5.0    1078.0           5.0     1950.0         68.0\n",
       "1459   147500.0          5.0    1256.0           6.0     1965.0         75.0\n",
       "\n",
       "[1460 rows x 6 columns]"
      ]
     },
     "execution_count": 31,
     "metadata": {},
     "output_type": "execute_result"
    }
   ],
   "source": [
    "#convertimos a dataframe\n",
    "df = pd.DataFrame(data, columns=keys)\n",
    "df"
   ]
  },
  {
   "cell_type": "code",
   "execution_count": 123,
   "id": "1781185e-56e5-4eb7-b8e8-255b8df761a4",
   "metadata": {
    "tags": []
   },
   "outputs": [
    {
     "name": "stdout",
     "output_type": "stream",
     "text": [
      "SalePrice tiene: 0.0% de filas en NaN\n",
      "OverallQual tiene: 0.0% de filas en NaN\n",
      "1stFlrSF tiene: 0.0% de filas en NaN\n",
      "TotRmsAbvGrd tiene: 0.0% de filas en NaN\n",
      "YearBuilt tiene: 0.0% de filas en NaN\n",
      "LotFrontage tiene: 17.73972602739726% de filas en NaN\n"
     ]
    },
    {
     "data": {
      "text/html": [
       "<div>\n",
       "<style scoped>\n",
       "    .dataframe tbody tr th:only-of-type {\n",
       "        vertical-align: middle;\n",
       "    }\n",
       "\n",
       "    .dataframe tbody tr th {\n",
       "        vertical-align: top;\n",
       "    }\n",
       "\n",
       "    .dataframe thead th {\n",
       "        text-align: right;\n",
       "    }\n",
       "</style>\n",
       "<table border=\"1\" class=\"dataframe\">\n",
       "  <thead>\n",
       "    <tr style=\"text-align: right;\">\n",
       "      <th></th>\n",
       "      <th>SalePrice</th>\n",
       "      <th>OverallQual</th>\n",
       "      <th>1stFlrSF</th>\n",
       "      <th>TotRmsAbvGrd</th>\n",
       "      <th>YearBuilt</th>\n",
       "      <th>LotFrontage</th>\n",
       "    </tr>\n",
       "  </thead>\n",
       "  <tbody>\n",
       "    <tr>\n",
       "      <th>6</th>\n",
       "      <td>311500.0</td>\n",
       "      <td>7.0</td>\n",
       "      <td>1137.0</td>\n",
       "      <td>8.0</td>\n",
       "      <td>1939.0</td>\n",
       "      <td>NaN</td>\n",
       "    </tr>\n",
       "    <tr>\n",
       "      <th>14</th>\n",
       "      <td>181000.0</td>\n",
       "      <td>6.0</td>\n",
       "      <td>948.0</td>\n",
       "      <td>7.0</td>\n",
       "      <td>2000.0</td>\n",
       "      <td>NaN</td>\n",
       "    </tr>\n",
       "    <tr>\n",
       "      <th>33</th>\n",
       "      <td>135750.0</td>\n",
       "      <td>4.0</td>\n",
       "      <td>952.0</td>\n",
       "      <td>4.0</td>\n",
       "      <td>1956.0</td>\n",
       "      <td>NaN</td>\n",
       "    </tr>\n",
       "    <tr>\n",
       "      <th>38</th>\n",
       "      <td>310000.0</td>\n",
       "      <td>8.0</td>\n",
       "      <td>1352.0</td>\n",
       "      <td>10.0</td>\n",
       "      <td>1993.0</td>\n",
       "      <td>NaN</td>\n",
       "    </tr>\n",
       "    <tr>\n",
       "      <th>41</th>\n",
       "      <td>205000.0</td>\n",
       "      <td>7.0</td>\n",
       "      <td>1222.0</td>\n",
       "      <td>8.0</td>\n",
       "      <td>1994.0</td>\n",
       "      <td>NaN</td>\n",
       "    </tr>\n",
       "    <tr>\n",
       "      <th>...</th>\n",
       "      <td>...</td>\n",
       "      <td>...</td>\n",
       "      <td>...</td>\n",
       "      <td>...</td>\n",
       "      <td>...</td>\n",
       "      <td>...</td>\n",
       "    </tr>\n",
       "    <tr>\n",
       "      <th>1424</th>\n",
       "      <td>165000.0</td>\n",
       "      <td>7.0</td>\n",
       "      <td>673.0</td>\n",
       "      <td>6.0</td>\n",
       "      <td>2000.0</td>\n",
       "      <td>NaN</td>\n",
       "    </tr>\n",
       "    <tr>\n",
       "      <th>1429</th>\n",
       "      <td>147000.0</td>\n",
       "      <td>6.0</td>\n",
       "      <td>1026.0</td>\n",
       "      <td>5.0</td>\n",
       "      <td>1978.0</td>\n",
       "      <td>NaN</td>\n",
       "    </tr>\n",
       "    <tr>\n",
       "      <th>1434</th>\n",
       "      <td>110000.0</td>\n",
       "      <td>5.0</td>\n",
       "      <td>979.0</td>\n",
       "      <td>5.0</td>\n",
       "      <td>1950.0</td>\n",
       "      <td>NaN</td>\n",
       "    </tr>\n",
       "    <tr>\n",
       "      <th>1448</th>\n",
       "      <td>160000.0</td>\n",
       "      <td>5.0</td>\n",
       "      <td>1687.0</td>\n",
       "      <td>7.0</td>\n",
       "      <td>1948.0</td>\n",
       "      <td>NaN</td>\n",
       "    </tr>\n",
       "    <tr>\n",
       "      <th>1450</th>\n",
       "      <td>119000.0</td>\n",
       "      <td>5.0</td>\n",
       "      <td>1728.0</td>\n",
       "      <td>10.0</td>\n",
       "      <td>1964.0</td>\n",
       "      <td>NaN</td>\n",
       "    </tr>\n",
       "  </tbody>\n",
       "</table>\n",
       "<p>259 rows × 6 columns</p>\n",
       "</div>"
      ],
      "text/plain": [
       "      SalePrice  OverallQual  1stFlrSF  TotRmsAbvGrd  YearBuilt  LotFrontage\n",
       "6      311500.0          7.0    1137.0           8.0     1939.0          NaN\n",
       "14     181000.0          6.0     948.0           7.0     2000.0          NaN\n",
       "33     135750.0          4.0     952.0           4.0     1956.0          NaN\n",
       "38     310000.0          8.0    1352.0          10.0     1993.0          NaN\n",
       "41     205000.0          7.0    1222.0           8.0     1994.0          NaN\n",
       "...         ...          ...       ...           ...        ...          ...\n",
       "1424   165000.0          7.0     673.0           6.0     2000.0          NaN\n",
       "1429   147000.0          6.0    1026.0           5.0     1978.0          NaN\n",
       "1434   110000.0          5.0     979.0           5.0     1950.0          NaN\n",
       "1448   160000.0          5.0    1687.0           7.0     1948.0          NaN\n",
       "1450   119000.0          5.0    1728.0          10.0     1964.0          NaN\n",
       "\n",
       "[259 rows x 6 columns]"
      ]
     },
     "execution_count": 123,
     "metadata": {},
     "output_type": "execute_result"
    }
   ],
   "source": [
    "for col in df.columns:\n",
    "    fila_con_nulos = df[col].isnull()\n",
    "\n",
    "    print(col, f\"tiene: {100*df[fila_con_nulos].shape[0]/df.shape[0]}%\", \"de filas en NaN\")\n",
    "\n",
    "df[df['LotFrontage'].isnull()]"
   ]
  },
  {
   "cell_type": "code",
   "execution_count": 124,
   "id": "01c39915-f95a-4f12-8ae3-4e9e478cd4e0",
   "metadata": {
    "tags": []
   },
   "outputs": [],
   "source": [
    "# se llenan los NaN con 0 porque no saber puede implicar que la propiedad no tiene metros que den a una calle\n",
    "df['LotFrontage'].fillna(0, inplace=True)"
   ]
  },
  {
   "cell_type": "markdown",
   "id": "54941a0a-3a91-4c9b-a149-7554645ebe65",
   "metadata": {
    "jp-MarkdownHeadingCollapsed": true,
    "tags": []
   },
   "source": [
    "#### funciones de prueba pandas"
   ]
  },
  {
   "cell_type": "code",
   "execution_count": 41,
   "id": "ddabd680-75e2-493c-85e2-e2ecf85e9032",
   "metadata": {
    "tags": []
   },
   "outputs": [],
   "source": [
    "def Slicing_python_pd(dataset : pd.DataFrame) -> (pd.DataFrame, pd.DataFrame):\n",
    "    # test to 0.8\n",
    "    trows = dataset.shape[0]\n",
    "    train= round(trows*0.8)\n",
    "    \n",
    "    \n",
    "    df_train = dataset.sample(n = train)\n",
    "    df_test = dataset[~dataset.index.isin(df_train.index)]\n",
    "    \n",
    "    return df_train, df_test"
   ]
  },
  {
   "cell_type": "code",
   "execution_count": 146,
   "id": "514c72e1-5cdd-43e8-bd8b-378c568fcb1d",
   "metadata": {
    "tags": []
   },
   "outputs": [
    {
     "data": {
      "text/html": [
       "<div>\n",
       "<style scoped>\n",
       "    .dataframe tbody tr th:only-of-type {\n",
       "        vertical-align: middle;\n",
       "    }\n",
       "\n",
       "    .dataframe tbody tr th {\n",
       "        vertical-align: top;\n",
       "    }\n",
       "\n",
       "    .dataframe thead th {\n",
       "        text-align: right;\n",
       "    }\n",
       "</style>\n",
       "<table border=\"1\" class=\"dataframe\">\n",
       "  <thead>\n",
       "    <tr style=\"text-align: right;\">\n",
       "      <th></th>\n",
       "      <th>SalePrice</th>\n",
       "      <th>OverallQual</th>\n",
       "      <th>1stFlrSF</th>\n",
       "      <th>TotRmsAbvGrd</th>\n",
       "      <th>YearBuilt</th>\n",
       "      <th>LotFrontage</th>\n",
       "    </tr>\n",
       "  </thead>\n",
       "  <tbody>\n",
       "    <tr>\n",
       "      <th>1139</th>\n",
       "      <td>210000.0</td>\n",
       "      <td>7.0</td>\n",
       "      <td>933.0</td>\n",
       "      <td>8.0</td>\n",
       "      <td>1994.0</td>\n",
       "      <td>70.0</td>\n",
       "    </tr>\n",
       "    <tr>\n",
       "      <th>1309</th>\n",
       "      <td>197900.0</td>\n",
       "      <td>7.0</td>\n",
       "      <td>1142.0</td>\n",
       "      <td>7.0</td>\n",
       "      <td>1976.0</td>\n",
       "      <td>0.0</td>\n",
       "    </tr>\n",
       "    <tr>\n",
       "      <th>676</th>\n",
       "      <td>157000.0</td>\n",
       "      <td>7.0</td>\n",
       "      <td>998.0</td>\n",
       "      <td>8.0</td>\n",
       "      <td>1920.0</td>\n",
       "      <td>60.0</td>\n",
       "    </tr>\n",
       "    <tr>\n",
       "      <th>614</th>\n",
       "      <td>306000.0</td>\n",
       "      <td>8.0</td>\n",
       "      <td>1704.0</td>\n",
       "      <td>7.0</td>\n",
       "      <td>2007.0</td>\n",
       "      <td>98.0</td>\n",
       "    </tr>\n",
       "    <tr>\n",
       "      <th>1255</th>\n",
       "      <td>141500.0</td>\n",
       "      <td>5.0</td>\n",
       "      <td>1067.0</td>\n",
       "      <td>5.0</td>\n",
       "      <td>1936.0</td>\n",
       "      <td>51.0</td>\n",
       "    </tr>\n",
       "    <tr>\n",
       "      <th>...</th>\n",
       "      <td>...</td>\n",
       "      <td>...</td>\n",
       "      <td>...</td>\n",
       "      <td>...</td>\n",
       "      <td>...</td>\n",
       "      <td>...</td>\n",
       "    </tr>\n",
       "    <tr>\n",
       "      <th>13</th>\n",
       "      <td>143000.0</td>\n",
       "      <td>5.0</td>\n",
       "      <td>796.0</td>\n",
       "      <td>5.0</td>\n",
       "      <td>1993.0</td>\n",
       "      <td>85.0</td>\n",
       "    </tr>\n",
       "    <tr>\n",
       "      <th>873</th>\n",
       "      <td>281000.0</td>\n",
       "      <td>8.0</td>\n",
       "      <td>1120.0</td>\n",
       "      <td>8.0</td>\n",
       "      <td>2006.0</td>\n",
       "      <td>86.0</td>\n",
       "    </tr>\n",
       "    <tr>\n",
       "      <th>808</th>\n",
       "      <td>125000.0</td>\n",
       "      <td>6.0</td>\n",
       "      <td>752.0</td>\n",
       "      <td>4.0</td>\n",
       "      <td>1984.0</td>\n",
       "      <td>50.0</td>\n",
       "    </tr>\n",
       "    <tr>\n",
       "      <th>1150</th>\n",
       "      <td>122500.0</td>\n",
       "      <td>5.0</td>\n",
       "      <td>765.0</td>\n",
       "      <td>6.0</td>\n",
       "      <td>1971.0</td>\n",
       "      <td>24.0</td>\n",
       "    </tr>\n",
       "    <tr>\n",
       "      <th>514</th>\n",
       "      <td>133700.0</td>\n",
       "      <td>5.0</td>\n",
       "      <td>1040.0</td>\n",
       "      <td>6.0</td>\n",
       "      <td>1959.0</td>\n",
       "      <td>70.0</td>\n",
       "    </tr>\n",
       "  </tbody>\n",
       "</table>\n",
       "<p>1168 rows × 6 columns</p>\n",
       "</div>"
      ],
      "text/plain": [
       "      SalePrice  OverallQual  1stFlrSF  TotRmsAbvGrd  YearBuilt  LotFrontage\n",
       "1139   210000.0          7.0     933.0           8.0     1994.0         70.0\n",
       "1309   197900.0          7.0    1142.0           7.0     1976.0          0.0\n",
       "676    157000.0          7.0     998.0           8.0     1920.0         60.0\n",
       "614    306000.0          8.0    1704.0           7.0     2007.0         98.0\n",
       "1255   141500.0          5.0    1067.0           5.0     1936.0         51.0\n",
       "...         ...          ...       ...           ...        ...          ...\n",
       "13     143000.0          5.0     796.0           5.0     1993.0         85.0\n",
       "873    281000.0          8.0    1120.0           8.0     2006.0         86.0\n",
       "808    125000.0          6.0     752.0           4.0     1984.0         50.0\n",
       "1150   122500.0          5.0     765.0           6.0     1971.0         24.0\n",
       "514    133700.0          5.0    1040.0           6.0     1959.0         70.0\n",
       "\n",
       "[1168 rows x 6 columns]"
      ]
     },
     "execution_count": 146,
     "metadata": {},
     "output_type": "execute_result"
    }
   ],
   "source": [
    "df_train, df_test = Slicing_python_pd(df)\n",
    "df_train"
   ]
  },
  {
   "cell_type": "code",
   "execution_count": 147,
   "id": "5329ad2e-69cb-4938-af4c-671c154bc79e",
   "metadata": {
    "tags": []
   },
   "outputs": [
    {
     "data": {
      "text/html": [
       "<div>\n",
       "<style scoped>\n",
       "    .dataframe tbody tr th:only-of-type {\n",
       "        vertical-align: middle;\n",
       "    }\n",
       "\n",
       "    .dataframe tbody tr th {\n",
       "        vertical-align: top;\n",
       "    }\n",
       "\n",
       "    .dataframe thead th {\n",
       "        text-align: right;\n",
       "    }\n",
       "</style>\n",
       "<table border=\"1\" class=\"dataframe\">\n",
       "  <thead>\n",
       "    <tr style=\"text-align: right;\">\n",
       "      <th></th>\n",
       "      <th>SalePrice</th>\n",
       "      <th>OverallQual</th>\n",
       "      <th>1stFlrSF</th>\n",
       "      <th>TotRmsAbvGrd</th>\n",
       "      <th>YearBuilt</th>\n",
       "      <th>LotFrontage</th>\n",
       "    </tr>\n",
       "  </thead>\n",
       "  <tbody>\n",
       "    <tr>\n",
       "      <th>1</th>\n",
       "      <td>100000.0</td>\n",
       "      <td>6.0</td>\n",
       "      <td>483.0</td>\n",
       "      <td>5.0</td>\n",
       "      <td>1973.0</td>\n",
       "      <td>21.0</td>\n",
       "    </tr>\n",
       "    <tr>\n",
       "      <th>2</th>\n",
       "      <td>274900.0</td>\n",
       "      <td>8.0</td>\n",
       "      <td>1713.0</td>\n",
       "      <td>7.0</td>\n",
       "      <td>2004.0</td>\n",
       "      <td>76.0</td>\n",
       "    </tr>\n",
       "    <tr>\n",
       "      <th>6</th>\n",
       "      <td>130000.0</td>\n",
       "      <td>5.0</td>\n",
       "      <td>1352.0</td>\n",
       "      <td>6.0</td>\n",
       "      <td>1958.0</td>\n",
       "      <td>92.0</td>\n",
       "    </tr>\n",
       "    <tr>\n",
       "      <th>8</th>\n",
       "      <td>180000.0</td>\n",
       "      <td>6.0</td>\n",
       "      <td>988.0</td>\n",
       "      <td>4.0</td>\n",
       "      <td>1969.0</td>\n",
       "      <td>0.0</td>\n",
       "    </tr>\n",
       "    <tr>\n",
       "      <th>10</th>\n",
       "      <td>239900.0</td>\n",
       "      <td>8.0</td>\n",
       "      <td>901.0</td>\n",
       "      <td>8.0</td>\n",
       "      <td>2005.0</td>\n",
       "      <td>72.0</td>\n",
       "    </tr>\n",
       "    <tr>\n",
       "      <th>...</th>\n",
       "      <td>...</td>\n",
       "      <td>...</td>\n",
       "      <td>...</td>\n",
       "      <td>...</td>\n",
       "      <td>...</td>\n",
       "      <td>...</td>\n",
       "    </tr>\n",
       "    <tr>\n",
       "      <th>1425</th>\n",
       "      <td>302000.0</td>\n",
       "      <td>7.0</td>\n",
       "      <td>1824.0</td>\n",
       "      <td>5.0</td>\n",
       "      <td>1971.0</td>\n",
       "      <td>0.0</td>\n",
       "    </tr>\n",
       "    <tr>\n",
       "      <th>1431</th>\n",
       "      <td>145000.0</td>\n",
       "      <td>5.0</td>\n",
       "      <td>988.0</td>\n",
       "      <td>8.0</td>\n",
       "      <td>1940.0</td>\n",
       "      <td>0.0</td>\n",
       "    </tr>\n",
       "    <tr>\n",
       "      <th>1432</th>\n",
       "      <td>210000.0</td>\n",
       "      <td>8.0</td>\n",
       "      <td>786.0</td>\n",
       "      <td>6.0</td>\n",
       "      <td>2008.0</td>\n",
       "      <td>75.0</td>\n",
       "    </tr>\n",
       "    <tr>\n",
       "      <th>1435</th>\n",
       "      <td>139600.0</td>\n",
       "      <td>3.0</td>\n",
       "      <td>1733.0</td>\n",
       "      <td>8.0</td>\n",
       "      <td>1955.0</td>\n",
       "      <td>0.0</td>\n",
       "    </tr>\n",
       "    <tr>\n",
       "      <th>1442</th>\n",
       "      <td>174000.0</td>\n",
       "      <td>6.0</td>\n",
       "      <td>1537.0</td>\n",
       "      <td>7.0</td>\n",
       "      <td>1962.0</td>\n",
       "      <td>80.0</td>\n",
       "    </tr>\n",
       "  </tbody>\n",
       "</table>\n",
       "<p>292 rows × 6 columns</p>\n",
       "</div>"
      ],
      "text/plain": [
       "      SalePrice  OverallQual  1stFlrSF  TotRmsAbvGrd  YearBuilt  LotFrontage\n",
       "1      100000.0          6.0     483.0           5.0     1973.0         21.0\n",
       "2      274900.0          8.0    1713.0           7.0     2004.0         76.0\n",
       "6      130000.0          5.0    1352.0           6.0     1958.0         92.0\n",
       "8      180000.0          6.0     988.0           4.0     1969.0          0.0\n",
       "10     239900.0          8.0     901.0           8.0     2005.0         72.0\n",
       "...         ...          ...       ...           ...        ...          ...\n",
       "1425   302000.0          7.0    1824.0           5.0     1971.0          0.0\n",
       "1431   145000.0          5.0     988.0           8.0     1940.0          0.0\n",
       "1432   210000.0          8.0     786.0           6.0     2008.0         75.0\n",
       "1435   139600.0          3.0    1733.0           8.0     1955.0          0.0\n",
       "1442   174000.0          6.0    1537.0           7.0     1962.0         80.0\n",
       "\n",
       "[292 rows x 6 columns]"
      ]
     },
     "execution_count": 147,
     "metadata": {},
     "output_type": "execute_result"
    }
   ],
   "source": [
    "df_test"
   ]
  },
  {
   "cell_type": "markdown",
   "id": "21d20a86-a0d2-4b32-b900-d3178e2db643",
   "metadata": {
    "tags": []
   },
   "source": [
    "#### slicing con numpy"
   ]
  },
  {
   "cell_type": "code",
   "execution_count": 47,
   "id": "dcc9fcdd-64da-49fa-9109-c95f86e301e5",
   "metadata": {
    "tags": []
   },
   "outputs": [],
   "source": [
    "def Slicing_python_np(dataset : pd.DataFrame) -> (pd.DataFrame, pd.DataFrame):\n",
    "    # test to 0.8\n",
    "    trows = dataset.shape[0]\n",
    "    train= round(trows*0.8)\n",
    "    \n",
    "    #volvero un arreglo de np para poder usar shuffle\n",
    "    np_dataset = dataset.to_numpy()\n",
    "    \n",
    "    # poder replicar resultados.\n",
    "    np.random.seed(42)\n",
    "    np.random.shuffle(np_dataset)\n",
    "    \n",
    "    df_final = pd.DataFrame(np_dataset, columns = dataset.columns)\n",
    "    \n",
    "    df_train = df_final[:train]\n",
    "    df_test = df_final[train:]\n",
    "    \n",
    "    \n",
    "    return df_train, df_test"
   ]
  },
  {
   "cell_type": "code",
   "execution_count": 148,
   "id": "fd1defbd-8952-41bc-a5b7-c6c0e609d4cc",
   "metadata": {
    "tags": []
   },
   "outputs": [
    {
     "data": {
      "text/html": [
       "<div>\n",
       "<style scoped>\n",
       "    .dataframe tbody tr th:only-of-type {\n",
       "        vertical-align: middle;\n",
       "    }\n",
       "\n",
       "    .dataframe tbody tr th {\n",
       "        vertical-align: top;\n",
       "    }\n",
       "\n",
       "    .dataframe thead th {\n",
       "        text-align: right;\n",
       "    }\n",
       "</style>\n",
       "<table border=\"1\" class=\"dataframe\">\n",
       "  <thead>\n",
       "    <tr style=\"text-align: right;\">\n",
       "      <th></th>\n",
       "      <th>SalePrice</th>\n",
       "      <th>OverallQual</th>\n",
       "      <th>1stFlrSF</th>\n",
       "      <th>TotRmsAbvGrd</th>\n",
       "      <th>YearBuilt</th>\n",
       "      <th>LotFrontage</th>\n",
       "    </tr>\n",
       "  </thead>\n",
       "  <tbody>\n",
       "    <tr>\n",
       "      <th>0</th>\n",
       "      <td>181000.0</td>\n",
       "      <td>6.0</td>\n",
       "      <td>1586.0</td>\n",
       "      <td>7.0</td>\n",
       "      <td>1979.0</td>\n",
       "      <td>48.0</td>\n",
       "    </tr>\n",
       "    <tr>\n",
       "      <th>1</th>\n",
       "      <td>252678.0</td>\n",
       "      <td>7.0</td>\n",
       "      <td>932.0</td>\n",
       "      <td>7.0</td>\n",
       "      <td>2009.0</td>\n",
       "      <td>72.0</td>\n",
       "    </tr>\n",
       "    <tr>\n",
       "      <th>2</th>\n",
       "      <td>154900.0</td>\n",
       "      <td>5.0</td>\n",
       "      <td>820.0</td>\n",
       "      <td>7.0</td>\n",
       "      <td>1921.0</td>\n",
       "      <td>54.0</td>\n",
       "    </tr>\n",
       "    <tr>\n",
       "      <th>3</th>\n",
       "      <td>290000.0</td>\n",
       "      <td>8.0</td>\n",
       "      <td>1660.0</td>\n",
       "      <td>8.0</td>\n",
       "      <td>2006.0</td>\n",
       "      <td>85.0</td>\n",
       "    </tr>\n",
       "    <tr>\n",
       "      <th>4</th>\n",
       "      <td>131400.0</td>\n",
       "      <td>5.0</td>\n",
       "      <td>1144.0</td>\n",
       "      <td>6.0</td>\n",
       "      <td>1961.0</td>\n",
       "      <td>80.0</td>\n",
       "    </tr>\n",
       "    <tr>\n",
       "      <th>...</th>\n",
       "      <td>...</td>\n",
       "      <td>...</td>\n",
       "      <td>...</td>\n",
       "      <td>...</td>\n",
       "      <td>...</td>\n",
       "      <td>...</td>\n",
       "    </tr>\n",
       "    <tr>\n",
       "      <th>1163</th>\n",
       "      <td>159500.0</td>\n",
       "      <td>6.0</td>\n",
       "      <td>1194.0</td>\n",
       "      <td>6.0</td>\n",
       "      <td>1959.0</td>\n",
       "      <td>79.0</td>\n",
       "    </tr>\n",
       "    <tr>\n",
       "      <th>1164</th>\n",
       "      <td>167500.0</td>\n",
       "      <td>5.0</td>\n",
       "      <td>754.0</td>\n",
       "      <td>7.0</td>\n",
       "      <td>2006.0</td>\n",
       "      <td>73.0</td>\n",
       "    </tr>\n",
       "    <tr>\n",
       "      <th>1165</th>\n",
       "      <td>176000.0</td>\n",
       "      <td>6.0</td>\n",
       "      <td>1137.0</td>\n",
       "      <td>5.0</td>\n",
       "      <td>1987.0</td>\n",
       "      <td>54.0</td>\n",
       "    </tr>\n",
       "    <tr>\n",
       "      <th>1166</th>\n",
       "      <td>556581.0</td>\n",
       "      <td>9.0</td>\n",
       "      <td>1992.0</td>\n",
       "      <td>11.0</td>\n",
       "      <td>2005.0</td>\n",
       "      <td>85.0</td>\n",
       "    </tr>\n",
       "    <tr>\n",
       "      <th>1167</th>\n",
       "      <td>82500.0</td>\n",
       "      <td>4.0</td>\n",
       "      <td>861.0</td>\n",
       "      <td>4.0</td>\n",
       "      <td>1940.0</td>\n",
       "      <td>0.0</td>\n",
       "    </tr>\n",
       "  </tbody>\n",
       "</table>\n",
       "<p>1168 rows × 6 columns</p>\n",
       "</div>"
      ],
      "text/plain": [
       "      SalePrice  OverallQual  1stFlrSF  TotRmsAbvGrd  YearBuilt  LotFrontage\n",
       "0      181000.0          6.0    1586.0           7.0     1979.0         48.0\n",
       "1      252678.0          7.0     932.0           7.0     2009.0         72.0\n",
       "2      154900.0          5.0     820.0           7.0     1921.0         54.0\n",
       "3      290000.0          8.0    1660.0           8.0     2006.0         85.0\n",
       "4      131400.0          5.0    1144.0           6.0     1961.0         80.0\n",
       "...         ...          ...       ...           ...        ...          ...\n",
       "1163   159500.0          6.0    1194.0           6.0     1959.0         79.0\n",
       "1164   167500.0          5.0     754.0           7.0     2006.0         73.0\n",
       "1165   176000.0          6.0    1137.0           5.0     1987.0         54.0\n",
       "1166   556581.0          9.0    1992.0          11.0     2005.0         85.0\n",
       "1167    82500.0          4.0     861.0           4.0     1940.0          0.0\n",
       "\n",
       "[1168 rows x 6 columns]"
      ]
     },
     "execution_count": 148,
     "metadata": {},
     "output_type": "execute_result"
    }
   ],
   "source": [
    "df_train, df_test = Slicing_python_np(df)\n",
    "df_train"
   ]
  },
  {
   "cell_type": "code",
   "execution_count": 149,
   "id": "2d35d1a1-6f27-4549-8257-7f8a1916740c",
   "metadata": {
    "tags": []
   },
   "outputs": [
    {
     "data": {
      "text/html": [
       "<div>\n",
       "<style scoped>\n",
       "    .dataframe tbody tr th:only-of-type {\n",
       "        vertical-align: middle;\n",
       "    }\n",
       "\n",
       "    .dataframe tbody tr th {\n",
       "        vertical-align: top;\n",
       "    }\n",
       "\n",
       "    .dataframe thead th {\n",
       "        text-align: right;\n",
       "    }\n",
       "</style>\n",
       "<table border=\"1\" class=\"dataframe\">\n",
       "  <thead>\n",
       "    <tr style=\"text-align: right;\">\n",
       "      <th></th>\n",
       "      <th>SalePrice</th>\n",
       "      <th>OverallQual</th>\n",
       "      <th>1stFlrSF</th>\n",
       "      <th>TotRmsAbvGrd</th>\n",
       "      <th>YearBuilt</th>\n",
       "      <th>LotFrontage</th>\n",
       "    </tr>\n",
       "  </thead>\n",
       "  <tbody>\n",
       "    <tr>\n",
       "      <th>1168</th>\n",
       "      <td>152000.0</td>\n",
       "      <td>7.0</td>\n",
       "      <td>1370.0</td>\n",
       "      <td>6.0</td>\n",
       "      <td>1976.0</td>\n",
       "      <td>80.0</td>\n",
       "    </tr>\n",
       "    <tr>\n",
       "      <th>1169</th>\n",
       "      <td>167900.0</td>\n",
       "      <td>6.0</td>\n",
       "      <td>1334.0</td>\n",
       "      <td>6.0</td>\n",
       "      <td>1977.0</td>\n",
       "      <td>80.0</td>\n",
       "    </tr>\n",
       "    <tr>\n",
       "      <th>1170</th>\n",
       "      <td>237500.0</td>\n",
       "      <td>6.0</td>\n",
       "      <td>2117.0</td>\n",
       "      <td>7.0</td>\n",
       "      <td>1970.0</td>\n",
       "      <td>0.0</td>\n",
       "    </tr>\n",
       "    <tr>\n",
       "      <th>1171</th>\n",
       "      <td>174900.0</td>\n",
       "      <td>6.0</td>\n",
       "      <td>1165.0</td>\n",
       "      <td>6.0</td>\n",
       "      <td>1966.0</td>\n",
       "      <td>82.0</td>\n",
       "    </tr>\n",
       "    <tr>\n",
       "      <th>1172</th>\n",
       "      <td>197000.0</td>\n",
       "      <td>7.0</td>\n",
       "      <td>1687.0</td>\n",
       "      <td>12.0</td>\n",
       "      <td>1920.0</td>\n",
       "      <td>102.0</td>\n",
       "    </tr>\n",
       "    <tr>\n",
       "      <th>...</th>\n",
       "      <td>...</td>\n",
       "      <td>...</td>\n",
       "      <td>...</td>\n",
       "      <td>...</td>\n",
       "      <td>...</td>\n",
       "      <td>...</td>\n",
       "    </tr>\n",
       "    <tr>\n",
       "      <th>1455</th>\n",
       "      <td>123000.0</td>\n",
       "      <td>5.0</td>\n",
       "      <td>1319.0</td>\n",
       "      <td>5.0</td>\n",
       "      <td>1953.0</td>\n",
       "      <td>79.0</td>\n",
       "    </tr>\n",
       "    <tr>\n",
       "      <th>1456</th>\n",
       "      <td>149000.0</td>\n",
       "      <td>7.0</td>\n",
       "      <td>851.0</td>\n",
       "      <td>6.0</td>\n",
       "      <td>1931.0</td>\n",
       "      <td>60.0</td>\n",
       "    </tr>\n",
       "    <tr>\n",
       "      <th>1457</th>\n",
       "      <td>287000.0</td>\n",
       "      <td>8.0</td>\n",
       "      <td>1055.0</td>\n",
       "      <td>7.0</td>\n",
       "      <td>2001.0</td>\n",
       "      <td>0.0</td>\n",
       "    </tr>\n",
       "    <tr>\n",
       "      <th>1458</th>\n",
       "      <td>136000.0</td>\n",
       "      <td>6.0</td>\n",
       "      <td>1664.0</td>\n",
       "      <td>10.0</td>\n",
       "      <td>1916.0</td>\n",
       "      <td>60.0</td>\n",
       "    </tr>\n",
       "    <tr>\n",
       "      <th>1459</th>\n",
       "      <td>158000.0</td>\n",
       "      <td>6.0</td>\n",
       "      <td>1378.0</td>\n",
       "      <td>7.0</td>\n",
       "      <td>1972.0</td>\n",
       "      <td>0.0</td>\n",
       "    </tr>\n",
       "  </tbody>\n",
       "</table>\n",
       "<p>292 rows × 6 columns</p>\n",
       "</div>"
      ],
      "text/plain": [
       "      SalePrice  OverallQual  1stFlrSF  TotRmsAbvGrd  YearBuilt  LotFrontage\n",
       "1168   152000.0          7.0    1370.0           6.0     1976.0         80.0\n",
       "1169   167900.0          6.0    1334.0           6.0     1977.0         80.0\n",
       "1170   237500.0          6.0    2117.0           7.0     1970.0          0.0\n",
       "1171   174900.0          6.0    1165.0           6.0     1966.0         82.0\n",
       "1172   197000.0          7.0    1687.0          12.0     1920.0        102.0\n",
       "...         ...          ...       ...           ...        ...          ...\n",
       "1455   123000.0          5.0    1319.0           5.0     1953.0         79.0\n",
       "1456   149000.0          7.0     851.0           6.0     1931.0         60.0\n",
       "1457   287000.0          8.0    1055.0           7.0     2001.0          0.0\n",
       "1458   136000.0          6.0    1664.0          10.0     1916.0         60.0\n",
       "1459   158000.0          6.0    1378.0           7.0     1972.0          0.0\n",
       "\n",
       "[292 rows x 6 columns]"
      ]
     },
     "execution_count": 149,
     "metadata": {},
     "output_type": "execute_result"
    }
   ],
   "source": [
    "df_test"
   ]
  },
  {
   "cell_type": "markdown",
   "id": "6001097c-c653-4792-8853-0ff8df02fe08",
   "metadata": {
    "jp-MarkdownHeadingCollapsed": true,
    "tags": []
   },
   "source": [
    "#### este codigo se usara para el entrenamiento, pero se implementó un algoritmo para la parte 2 de slicing."
   ]
  },
  {
   "cell_type": "code",
   "execution_count": 22,
   "id": "7217593a-22b4-4011-8e56-87e13f44b9fa",
   "metadata": {
    "tags": []
   },
   "outputs": [],
   "source": [
    "from sklearn.model_selection import train_test_split\n",
    "\n",
    "# Dividir el DataFrame en un 80% para train y 20% para test\n",
    "train_df, test_df = train_test_split(df, test_size=0.2, random_state=42)"
   ]
  },
  {
   "cell_type": "code",
   "execution_count": 23,
   "id": "9d4768be-6a2a-4154-8f7c-aebbb2228520",
   "metadata": {
    "tags": []
   },
   "outputs": [
    {
     "data": {
      "text/html": [
       "<div>\n",
       "<style scoped>\n",
       "    .dataframe tbody tr th:only-of-type {\n",
       "        vertical-align: middle;\n",
       "    }\n",
       "\n",
       "    .dataframe tbody tr th {\n",
       "        vertical-align: top;\n",
       "    }\n",
       "\n",
       "    .dataframe thead th {\n",
       "        text-align: right;\n",
       "    }\n",
       "</style>\n",
       "<table border=\"1\" class=\"dataframe\">\n",
       "  <thead>\n",
       "    <tr style=\"text-align: right;\">\n",
       "      <th></th>\n",
       "      <th>SalePrice</th>\n",
       "      <th>OverallQual</th>\n",
       "      <th>1stFlrSF</th>\n",
       "      <th>TotRmsAbvGrd</th>\n",
       "      <th>YearBuilt</th>\n",
       "      <th>LotFrontage</th>\n",
       "    </tr>\n",
       "  </thead>\n",
       "  <tbody>\n",
       "    <tr>\n",
       "      <th>254</th>\n",
       "      <td>145000.0</td>\n",
       "      <td>5.0</td>\n",
       "      <td>1314.0</td>\n",
       "      <td>5.0</td>\n",
       "      <td>1957.0</td>\n",
       "      <td>70.0</td>\n",
       "    </tr>\n",
       "    <tr>\n",
       "      <th>1066</th>\n",
       "      <td>178000.0</td>\n",
       "      <td>6.0</td>\n",
       "      <td>799.0</td>\n",
       "      <td>7.0</td>\n",
       "      <td>1993.0</td>\n",
       "      <td>59.0</td>\n",
       "    </tr>\n",
       "    <tr>\n",
       "      <th>638</th>\n",
       "      <td>85000.0</td>\n",
       "      <td>5.0</td>\n",
       "      <td>796.0</td>\n",
       "      <td>4.0</td>\n",
       "      <td>1910.0</td>\n",
       "      <td>67.0</td>\n",
       "    </tr>\n",
       "    <tr>\n",
       "      <th>799</th>\n",
       "      <td>175000.0</td>\n",
       "      <td>5.0</td>\n",
       "      <td>981.0</td>\n",
       "      <td>7.0</td>\n",
       "      <td>1937.0</td>\n",
       "      <td>60.0</td>\n",
       "    </tr>\n",
       "    <tr>\n",
       "      <th>380</th>\n",
       "      <td>127000.0</td>\n",
       "      <td>5.0</td>\n",
       "      <td>1026.0</td>\n",
       "      <td>6.0</td>\n",
       "      <td>1924.0</td>\n",
       "      <td>50.0</td>\n",
       "    </tr>\n",
       "    <tr>\n",
       "      <th>...</th>\n",
       "      <td>...</td>\n",
       "      <td>...</td>\n",
       "      <td>...</td>\n",
       "      <td>...</td>\n",
       "      <td>...</td>\n",
       "      <td>...</td>\n",
       "    </tr>\n",
       "    <tr>\n",
       "      <th>1095</th>\n",
       "      <td>176432.0</td>\n",
       "      <td>6.0</td>\n",
       "      <td>1314.0</td>\n",
       "      <td>6.0</td>\n",
       "      <td>2006.0</td>\n",
       "      <td>78.0</td>\n",
       "    </tr>\n",
       "    <tr>\n",
       "      <th>1130</th>\n",
       "      <td>135000.0</td>\n",
       "      <td>4.0</td>\n",
       "      <td>1328.0</td>\n",
       "      <td>7.0</td>\n",
       "      <td>1928.0</td>\n",
       "      <td>65.0</td>\n",
       "    </tr>\n",
       "    <tr>\n",
       "      <th>1294</th>\n",
       "      <td>115000.0</td>\n",
       "      <td>5.0</td>\n",
       "      <td>864.0</td>\n",
       "      <td>5.0</td>\n",
       "      <td>1955.0</td>\n",
       "      <td>60.0</td>\n",
       "    </tr>\n",
       "    <tr>\n",
       "      <th>860</th>\n",
       "      <td>189950.0</td>\n",
       "      <td>7.0</td>\n",
       "      <td>912.0</td>\n",
       "      <td>7.0</td>\n",
       "      <td>1918.0</td>\n",
       "      <td>55.0</td>\n",
       "    </tr>\n",
       "    <tr>\n",
       "      <th>1126</th>\n",
       "      <td>174000.0</td>\n",
       "      <td>7.0</td>\n",
       "      <td>1555.0</td>\n",
       "      <td>7.0</td>\n",
       "      <td>2007.0</td>\n",
       "      <td>53.0</td>\n",
       "    </tr>\n",
       "  </tbody>\n",
       "</table>\n",
       "<p>1168 rows × 6 columns</p>\n",
       "</div>"
      ],
      "text/plain": [
       "      SalePrice  OverallQual  1stFlrSF  TotRmsAbvGrd  YearBuilt  LotFrontage\n",
       "254    145000.0          5.0    1314.0           5.0     1957.0         70.0\n",
       "1066   178000.0          6.0     799.0           7.0     1993.0         59.0\n",
       "638     85000.0          5.0     796.0           4.0     1910.0         67.0\n",
       "799    175000.0          5.0     981.0           7.0     1937.0         60.0\n",
       "380    127000.0          5.0    1026.0           6.0     1924.0         50.0\n",
       "...         ...          ...       ...           ...        ...          ...\n",
       "1095   176432.0          6.0    1314.0           6.0     2006.0         78.0\n",
       "1130   135000.0          4.0    1328.0           7.0     1928.0         65.0\n",
       "1294   115000.0          5.0     864.0           5.0     1955.0         60.0\n",
       "860    189950.0          7.0     912.0           7.0     1918.0         55.0\n",
       "1126   174000.0          7.0    1555.0           7.0     2007.0         53.0\n",
       "\n",
       "[1168 rows x 6 columns]"
      ]
     },
     "execution_count": 23,
     "metadata": {},
     "output_type": "execute_result"
    }
   ],
   "source": [
    "train_df"
   ]
  },
  {
   "cell_type": "code",
   "execution_count": 24,
   "id": "d7cb4182-e9a0-453d-8ce1-918dec077921",
   "metadata": {
    "tags": []
   },
   "outputs": [
    {
     "data": {
      "text/html": [
       "<div>\n",
       "<style scoped>\n",
       "    .dataframe tbody tr th:only-of-type {\n",
       "        vertical-align: middle;\n",
       "    }\n",
       "\n",
       "    .dataframe tbody tr th {\n",
       "        vertical-align: top;\n",
       "    }\n",
       "\n",
       "    .dataframe thead th {\n",
       "        text-align: right;\n",
       "    }\n",
       "</style>\n",
       "<table border=\"1\" class=\"dataframe\">\n",
       "  <thead>\n",
       "    <tr style=\"text-align: right;\">\n",
       "      <th></th>\n",
       "      <th>SalePrice</th>\n",
       "      <th>OverallQual</th>\n",
       "      <th>1stFlrSF</th>\n",
       "      <th>TotRmsAbvGrd</th>\n",
       "      <th>YearBuilt</th>\n",
       "      <th>LotFrontage</th>\n",
       "    </tr>\n",
       "  </thead>\n",
       "  <tbody>\n",
       "    <tr>\n",
       "      <th>892</th>\n",
       "      <td>154500.0</td>\n",
       "      <td>6.0</td>\n",
       "      <td>1068.0</td>\n",
       "      <td>6.0</td>\n",
       "      <td>1963.0</td>\n",
       "      <td>70.0</td>\n",
       "    </tr>\n",
       "    <tr>\n",
       "      <th>1105</th>\n",
       "      <td>325000.0</td>\n",
       "      <td>8.0</td>\n",
       "      <td>1500.0</td>\n",
       "      <td>9.0</td>\n",
       "      <td>1994.0</td>\n",
       "      <td>98.0</td>\n",
       "    </tr>\n",
       "    <tr>\n",
       "      <th>413</th>\n",
       "      <td>115000.0</td>\n",
       "      <td>5.0</td>\n",
       "      <td>1028.0</td>\n",
       "      <td>5.0</td>\n",
       "      <td>1927.0</td>\n",
       "      <td>56.0</td>\n",
       "    </tr>\n",
       "    <tr>\n",
       "      <th>522</th>\n",
       "      <td>159000.0</td>\n",
       "      <td>6.0</td>\n",
       "      <td>1004.0</td>\n",
       "      <td>7.0</td>\n",
       "      <td>1947.0</td>\n",
       "      <td>50.0</td>\n",
       "    </tr>\n",
       "    <tr>\n",
       "      <th>1036</th>\n",
       "      <td>315500.0</td>\n",
       "      <td>9.0</td>\n",
       "      <td>1620.0</td>\n",
       "      <td>6.0</td>\n",
       "      <td>2007.0</td>\n",
       "      <td>89.0</td>\n",
       "    </tr>\n",
       "    <tr>\n",
       "      <th>...</th>\n",
       "      <td>...</td>\n",
       "      <td>...</td>\n",
       "      <td>...</td>\n",
       "      <td>...</td>\n",
       "      <td>...</td>\n",
       "      <td>...</td>\n",
       "    </tr>\n",
       "    <tr>\n",
       "      <th>479</th>\n",
       "      <td>89471.0</td>\n",
       "      <td>4.0</td>\n",
       "      <td>1131.0</td>\n",
       "      <td>7.0</td>\n",
       "      <td>1937.0</td>\n",
       "      <td>50.0</td>\n",
       "    </tr>\n",
       "    <tr>\n",
       "      <th>1361</th>\n",
       "      <td>260000.0</td>\n",
       "      <td>7.0</td>\n",
       "      <td>1530.0</td>\n",
       "      <td>7.0</td>\n",
       "      <td>2005.0</td>\n",
       "      <td>124.0</td>\n",
       "    </tr>\n",
       "    <tr>\n",
       "      <th>802</th>\n",
       "      <td>189000.0</td>\n",
       "      <td>7.0</td>\n",
       "      <td>728.0</td>\n",
       "      <td>7.0</td>\n",
       "      <td>2005.0</td>\n",
       "      <td>63.0</td>\n",
       "    </tr>\n",
       "    <tr>\n",
       "      <th>651</th>\n",
       "      <td>108000.0</td>\n",
       "      <td>4.0</td>\n",
       "      <td>755.0</td>\n",
       "      <td>7.0</td>\n",
       "      <td>1940.0</td>\n",
       "      <td>60.0</td>\n",
       "    </tr>\n",
       "    <tr>\n",
       "      <th>722</th>\n",
       "      <td>124500.0</td>\n",
       "      <td>4.0</td>\n",
       "      <td>864.0</td>\n",
       "      <td>5.0</td>\n",
       "      <td>1970.0</td>\n",
       "      <td>70.0</td>\n",
       "    </tr>\n",
       "  </tbody>\n",
       "</table>\n",
       "<p>292 rows × 6 columns</p>\n",
       "</div>"
      ],
      "text/plain": [
       "      SalePrice  OverallQual  1stFlrSF  TotRmsAbvGrd  YearBuilt  LotFrontage\n",
       "892    154500.0          6.0    1068.0           6.0     1963.0         70.0\n",
       "1105   325000.0          8.0    1500.0           9.0     1994.0         98.0\n",
       "413    115000.0          5.0    1028.0           5.0     1927.0         56.0\n",
       "522    159000.0          6.0    1004.0           7.0     1947.0         50.0\n",
       "1036   315500.0          9.0    1620.0           6.0     2007.0         89.0\n",
       "...         ...          ...       ...           ...        ...          ...\n",
       "479     89471.0          4.0    1131.0           7.0     1937.0         50.0\n",
       "1361   260000.0          7.0    1530.0           7.0     2005.0        124.0\n",
       "802    189000.0          7.0     728.0           7.0     2005.0         63.0\n",
       "651    108000.0          4.0     755.0           7.0     1940.0         60.0\n",
       "722    124500.0          4.0     864.0           5.0     1970.0         70.0\n",
       "\n",
       "[292 rows x 6 columns]"
      ]
     },
     "execution_count": 24,
     "metadata": {},
     "output_type": "execute_result"
    }
   ],
   "source": [
    "test_df"
   ]
  },
  {
   "cell_type": "code",
   "execution_count": 130,
   "id": "01730e34-5267-49f4-b85c-e341ee28060e",
   "metadata": {
    "tags": []
   },
   "outputs": [
    {
     "data": {
      "text/plain": [
       "1168.0"
      ]
     },
     "execution_count": 130,
     "metadata": {},
     "output_type": "execute_result"
    }
   ],
   "source": [
    "# filas para el 80%\n",
    "1460*0.8"
   ]
  },
  {
   "cell_type": "code",
   "execution_count": 131,
   "id": "46437449-d562-40ad-a4f0-b04124acea1f",
   "metadata": {
    "tags": []
   },
   "outputs": [
    {
     "data": {
      "text/plain": [
       "292.0"
      ]
     },
     "execution_count": 131,
     "metadata": {},
     "output_type": "execute_result"
    }
   ],
   "source": [
    "# filas para el 20%\n",
    "1460*0.2"
   ]
  },
  {
   "cell_type": "markdown",
   "id": "a6f8bfbc-c3cf-42ba-bd3b-88ecea0ea44e",
   "metadata": {
    "tags": []
   },
   "source": [
    "### 3. Análisis exploratorio de datos: Para cada variable en el dataset calcular((usando numpy o pandas) / Exploratory analisys of the data: for each variable in the dataset calculate using numpy or pandas"
   ]
  },
  {
   "cell_type": "code",
   "execution_count": 153,
   "id": "3cefb2e9-c37f-488c-b77a-cc34bf34e958",
   "metadata": {
    "tags": []
   },
   "outputs": [],
   "source": [
    "def Analisis_exploratorio_variables(dataframe: pd.DataFrame):\n",
    "\n",
    "    for key in dataframe.columns:\n",
    "            df2 = dataframe[key].describe()\n",
    "            print(\"\\n--------\", key, \"--------\")\n",
    "            print(\"La media es: \", df2['mean'])\n",
    "            print(\"El valor minimo es: \", df2['min'])\n",
    "            print(\"El valor máximo es: \", df2['max'])\n",
    "            print(\"El rango es: \", df2['max']- df2['min'])\n",
    "            print(\"La desviación estandar es de: \", df2['std'])"
   ]
  },
  {
   "cell_type": "code",
   "execution_count": 134,
   "id": "737f10f1-070e-4191-a2cc-c59920670d75",
   "metadata": {
    "tags": []
   },
   "outputs": [],
   "source": [
    "# Código sacado de la lección 5 para clasificar las columnas:\n",
    "# Code used in lection 5 to clasify columns to continuous, categoricals or discrete variables.\n",
    "def getVariablesScaleType(dataset):\n",
    "    columnas = dataset.columns\n",
    "    categoricas = []\n",
    "    continuas = []\n",
    "    discretas = []\n",
    "\n",
    "    for col in columnas:\n",
    "        col_type = dataset[col].dtype\n",
    "        n = len(dataset[col].unique())\n",
    "\n",
    "        if(col_type == 'object'):\n",
    "            categoricas.append(col)\n",
    "        elif(col_type == 'int64' or col_type == 'float' or col_type == 'int'):\n",
    "            if(n <= 30):\n",
    "                discretas.append(col)\n",
    "            else:\n",
    "                continuas.append(col)\n",
    "    \n",
    "    return continuas, discretas, categoricas"
   ]
  },
  {
   "cell_type": "code",
   "execution_count": 135,
   "id": "8150dde2-6e52-41c3-ab06-7264e09a719a",
   "metadata": {
    "tags": []
   },
   "outputs": [],
   "source": [
    "def histogramas_subplot(dataframe):\n",
    "    num_subplots_por_fila = 2\n",
    "    num_filas = (len(df.columns) - 1) // num_subplots_por_fila + 1\n",
    "    num_columnas = num_subplots_por_fila\n",
    "\n",
    "    palette = sns.color_palette(\"rocket\", num_filas * num_columnas)  # Ejemplo: paleta \"tab10\"\n",
    "    sns.set_palette(palette)\n",
    "\n",
    "    # Crear subplots\n",
    "    fig, axs = plt.subplots(num_filas, num_columnas, figsize=(15, 5*num_filas))\n",
    "\n",
    "    for i, key in enumerate(df.columns):\n",
    "        ax = axs[i // num_subplots_por_fila, i % num_subplots_por_fila]\n",
    "        sns.histplot(dataframe[key], ax=ax, bins=10, color=palette[i], edgecolor='black')\n",
    "        ax.set_title(key)\n",
    "        ax.set_xlabel('Columna')\n",
    "        ax.set_ylabel('Frecuencia')\n",
    "\n",
    "    plt.show()"
   ]
  },
  {
   "cell_type": "markdown",
   "id": "1f16acec-aa31-49fb-8ab5-52f1ca9418f3",
   "metadata": {
    "tags": []
   },
   "source": [
    "#### dataset total sin slicing"
   ]
  },
  {
   "cell_type": "code",
   "execution_count": 138,
   "id": "2942d592-3e77-4b6e-ad57-56e234ca3806",
   "metadata": {
    "tags": []
   },
   "outputs": [],
   "source": [
    "var_con, var_disc, var_cat = getVariablesScaleType(df)"
   ]
  },
  {
   "cell_type": "code",
   "execution_count": 79,
   "id": "2543f20c-dac0-4ffc-b4a7-e9dd830a22cc",
   "metadata": {
    "tags": []
   },
   "outputs": [
    {
     "name": "stdout",
     "output_type": "stream",
     "text": [
      "Las siguientes variables son continuas:  ['SalePrice', '1stFlrSF', 'YearBuilt', 'LotFrontage']\n",
      "Las siguientes variables son discretas:  ['OverallQual', 'TotRmsAbvGrd']\n",
      "Las siguientes variables son categoricas:  []\n"
     ]
    }
   ],
   "source": [
    "print(\"Las siguientes variables son continuas: \", var_con)\n",
    "print(\"Las siguientes variables son discretas: \", var_disc)\n",
    "print(\"Las siguientes variables son categoricas: \", var_cat)"
   ]
  },
  {
   "cell_type": "markdown",
   "id": "809e4b17-957b-4ea5-83a6-589c5a5e79b8",
   "metadata": {},
   "source": [
    "#### DataFrame del original"
   ]
  },
  {
   "cell_type": "code",
   "execution_count": 154,
   "id": "9b68dc98-e3e8-4757-9d1e-986888ad49f3",
   "metadata": {
    "tags": []
   },
   "outputs": [
    {
     "name": "stdout",
     "output_type": "stream",
     "text": [
      "\n",
      "-------- SalePrice --------\n",
      "La media es:  180921.19589041095\n",
      "El valor minimo es:  34900.0\n",
      "El valor máximo es:  755000.0\n",
      "El rango es:  720100.0\n",
      "La desviación estandar es de:  79442.50288288662\n",
      "\n",
      "-------- OverallQual --------\n",
      "La media es:  6.0993150684931505\n",
      "El valor minimo es:  1.0\n",
      "El valor máximo es:  10.0\n",
      "El rango es:  9.0\n",
      "La desviación estandar es de:  1.3829965467415912\n",
      "\n",
      "-------- 1stFlrSF --------\n",
      "La media es:  1162.626712328767\n",
      "El valor minimo es:  334.0\n",
      "El valor máximo es:  4692.0\n",
      "El rango es:  4358.0\n",
      "La desviación estandar es de:  386.5877380410739\n",
      "\n",
      "-------- TotRmsAbvGrd --------\n",
      "La media es:  6.517808219178082\n",
      "El valor minimo es:  2.0\n",
      "El valor máximo es:  14.0\n",
      "El rango es:  12.0\n",
      "La desviación estandar es de:  1.6253932905840616\n",
      "\n",
      "-------- YearBuilt --------\n",
      "La media es:  1971.267808219178\n",
      "El valor minimo es:  1872.0\n",
      "El valor máximo es:  2010.0\n",
      "El rango es:  138.0\n",
      "La desviación estandar es de:  30.202904042525248\n",
      "\n",
      "-------- LotFrontage --------\n",
      "La media es:  57.62328767123287\n",
      "El valor minimo es:  0.0\n",
      "El valor máximo es:  313.0\n",
      "El rango es:  313.0\n",
      "La desviación estandar es de:  34.66430423090893\n"
     ]
    }
   ],
   "source": [
    "Analisis_exploratorio_variables(df)"
   ]
  },
  {
   "cell_type": "markdown",
   "id": "82b9d7b3-92bd-4e64-81ac-e2821fc0a888",
   "metadata": {},
   "source": [
    "#### DataFrame de entrenamiento"
   ]
  },
  {
   "cell_type": "code",
   "execution_count": 155,
   "id": "e6b841f0-af13-4fd6-bc73-2d63283c0ce1",
   "metadata": {
    "tags": []
   },
   "outputs": [
    {
     "name": "stdout",
     "output_type": "stream",
     "text": [
      "\n",
      "-------- SalePrice --------\n",
      "La media es:  181831.14469178082\n",
      "El valor minimo es:  34900.0\n",
      "El valor máximo es:  755000.0\n",
      "El rango es:  720100.0\n",
      "La desviación estandar es de:  80675.61653814759\n",
      "\n",
      "-------- OverallQual --------\n",
      "La media es:  6.126712328767123\n",
      "El valor minimo es:  1.0\n",
      "El valor máximo es:  10.0\n",
      "El rango es:  9.0\n",
      "La desviación estandar es de:  1.382733088099123\n",
      "\n",
      "-------- 1stFlrSF --------\n",
      "La media es:  1157.728595890411\n",
      "El valor minimo es:  334.0\n",
      "El valor máximo es:  4692.0\n",
      "El rango es:  4358.0\n",
      "La desviación estandar es de:  393.49816993038\n",
      "\n",
      "-------- TotRmsAbvGrd --------\n",
      "La media es:  6.523116438356165\n",
      "El valor minimo es:  2.0\n",
      "El valor máximo es:  14.0\n",
      "El rango es:  12.0\n",
      "La desviación estandar es de:  1.6275730024983033\n",
      "\n",
      "-------- YearBuilt --------\n",
      "La media es:  1971.7722602739725\n",
      "El valor minimo es:  1872.0\n",
      "El valor máximo es:  2010.0\n",
      "El rango es:  138.0\n",
      "La desviación estandar es de:  30.002133903440324\n",
      "\n",
      "-------- LotFrontage --------\n",
      "La media es:  57.81421232876713\n",
      "El valor minimo es:  0.0\n",
      "El valor máximo es:  313.0\n",
      "El rango es:  313.0\n",
      "La desviación estandar es de:  35.21653770480211\n"
     ]
    }
   ],
   "source": [
    "Analisis_exploratorio_variables(df_train)"
   ]
  },
  {
   "cell_type": "markdown",
   "id": "864f77b9-ad2d-4076-8b19-b10cd88d89e4",
   "metadata": {},
   "source": [
    "### 4. Para cada variable en el dataset usar seaborn(funci´on distplot https://seaborn.pydata.org/generated/seaborn.distplot.html) para graficar un histograma de la variable. / For each variable in the dataset use seaborn to graph an histogram of the variable."
   ]
  },
  {
   "cell_type": "markdown",
   "id": "babd26f6-1a52-4729-8fb1-320088d00132",
   "metadata": {
    "tags": []
   },
   "source": [
    "#### DataFrame original"
   ]
  },
  {
   "cell_type": "code",
   "execution_count": 140,
   "id": "961920d5-b2c6-4371-9c79-ddb26f51ed87",
   "metadata": {
    "tags": []
   },
   "outputs": [
    {
     "data": {
      "image/png": "[encoded data removed]",
      "text/plain": [
       "<Figure size 1500x1500 with 6 Axes>"
      ]
     },
     "metadata": {},
     "output_type": "display_data"
    }
   ],
   "source": [
    "histogramas_subplot(df)"
   ]
  },
  {
   "cell_type": "markdown",
   "id": "e42a5c59-3cbf-4baf-b53d-c82f1a4be178",
   "metadata": {
    "tags": []
   },
   "source": [
    "#### DataFrame de entrenamiento"
   ]
  },
  {
   "cell_type": "code",
   "execution_count": 143,
   "id": "c88f19c6-9561-4ea5-9d73-b1a2fe7e0400",
   "metadata": {
    "tags": []
   },
   "outputs": [
    {
     "data": {
      "image/png": "[encoded data removed]",
      "text/plain": [
       "<Figure size 1500x1500 with 6 Axes>"
      ]
     },
     "metadata": {},
     "output_type": "display_data"
    }
   ],
   "source": [
    "histogramas_subplot(df_train)"
   ]
  },
  {
   "cell_type": "markdown",
   "id": "35a1aed6-3792-4a77-889c-202ca44a265e",
   "metadata": {},
   "source": [
    "#### DataFrame de Testing"
   ]
  },
  {
   "cell_type": "code",
   "execution_count": 156,
   "id": "8669bf11-aecc-4a4c-88fa-67048de5a5cc",
   "metadata": {
    "tags": []
   },
   "outputs": [
    {
     "data": {
      "image/png": "[encoded data removed]",
      "text/plain": [
       "<Figure size 1500x1500 with 6 Axes>"
      ]
     },
     "metadata": {},
     "output_type": "display_data"
    }
   ],
   "source": [
    "histogramas_subplot(df_test)"
   ]
  },
  {
   "cell_type": "markdown",
   "id": "9530eb2c-dda5-4920-a51f-100484de100b",
   "metadata": {},
   "source": [
    "### 5. Para cada variable independiente x / For every independent variable x "
   ]
  },
  {
   "cell_type": "code",
   "execution_count": 157,
   "id": "b0c8a5e1-318e-4684-b028-0a103e3cbb05",
   "metadata": {
    "tags": []
   },
   "outputs": [],
   "source": [
    "# la variable objetivo y = SalePrice // the objective variable y is SalePrice\n",
    "\n"
   ]
  },
  {
   "cell_type": "code",
   "execution_count": null,
   "id": "a488243a-ed21-4752-a74a-afe5790489e9",
   "metadata": {},
   "outputs": [],
   "source": []
  }
 ],
 "metadata": {
  "kernelspec": {
   "display_name": "Python 3 (ipykernel)",
   "language": "python",
   "name": "python3"
  },
  "language_info": {
   "codemirror_mode": {
    "name": "ipython",
    "version": 3
   },
   "file_extension": ".py",
   "mimetype": "text/x-python",
   "name": "python",
   "nbconvert_exporter": "python",
   "pygments_lexer": "ipython3",
   "version": "3.11.5"
  }
 },
 "nbformat": 4,
 "nbformat_minor": 5
}
