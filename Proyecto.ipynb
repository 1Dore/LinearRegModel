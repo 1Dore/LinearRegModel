{
 "cells": [
  {
   "cell_type": "markdown",
   "id": "233f289c-a718-4110-833c-6806a5c79b63",
   "metadata": {},
   "source": [
    "# Linear Regresion Uni-variable Predictive Model"
   ]
  },
  {
   "cell_type": "markdown",
   "id": "5cc11fc8-c2fb-4ebc-9f1b-6d91b8a08a8e",
   "metadata": {},
   "source": [
    "### About\n",
    "\n",
    "This is a project for the PostGrad class of Data Science in python.\n",
    "\n",
    "We will use a dataset to predict with uni variables, "
   ]
  },
  {
   "cell_type": "code",
   "execution_count": 3,
   "id": "2f2037ec-e2f7-46e6-a949-a409c0ace4fb",
   "metadata": {},
   "outputs": [],
   "source": [
    "import numpy as np\n",
    "import matplotlib.pyplot as plt\n",
    "import pandas as pd\n",
    "import seaborn as sns\n",
    "import sklearn"
   ]
  },
  {
   "cell_type": "code",
   "execution_count": 2,
   "id": "55cd7538-bb4c-4942-aea0-7a1874db9b45",
   "metadata": {
    "tags": []
   },
   "outputs": [
    {
     "name": "stdout",
     "output_type": "stream",
     "text": [
      "Requirement already satisfied: scikit-learn in d:\\anaconda\\lib\\site-packages (1.3.0)\n",
      "Requirement already satisfied: numpy>=1.17.3 in d:\\anaconda\\lib\\site-packages (from scikit-learn) (1.24.3)\n",
      "Requirement already satisfied: scipy>=1.5.0 in d:\\anaconda\\lib\\site-packages (from scikit-learn) (1.11.1)\n",
      "Requirement already satisfied: joblib>=1.1.1 in d:\\anaconda\\lib\\site-packages (from scikit-learn) (1.2.0)\n",
      "Requirement already satisfied: threadpoolctl>=2.0.0 in d:\\anaconda\\lib\\site-packages (from scikit-learn) (2.2.0)\n",
      "Note: you may need to restart the kernel to use updated packages.\n"
     ]
    }
   ],
   "source": [
    "pip install scikit-learn"
   ]
  },
  {
   "cell_type": "code",
   "execution_count": null,
   "id": "e8fc9f1d-ba61-4d99-92a3-8515174359ae",
   "metadata": {},
   "outputs": [],
   "source": []
  }
 ],
 "metadata": {
  "kernelspec": {
   "display_name": "Python 3 (ipykernel)",
   "language": "python",
   "name": "python3"
  },
  "language_info": {
   "codemirror_mode": {
    "name": "ipython",
    "version": 3
   },
   "file_extension": ".py",
   "mimetype": "text/x-python",
   "name": "python",
   "nbconvert_exporter": "python",
   "pygments_lexer": "ipython3",
   "version": "3.11.5"
  }
 },
 "nbformat": 4,
 "nbformat_minor": 5
}
